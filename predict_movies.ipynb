{
 "cells": [
  {
   "cell_type": "code",
   "execution_count": 1,
   "metadata": {},
   "outputs": [],
   "source": [
    "import pandas as pd\n",
    "import numpy as np\n",
    "import math\n",
    "import re\n",
    "from scipy.sparse import csr_matrix\n",
    "import matplotlib.pyplot as plt\n",
    "import seaborn as sns\n",
    "from surprise import Reader, Dataset, SVD\n",
    "from surprise.model_selection import cross_validate\n",
    "from datetime import datetime"
   ]
  },
  {
   "cell_type": "code",
   "execution_count": 2,
   "metadata": {},
   "outputs": [
    {
     "output_type": "stream",
     "name": "stdout",
     "text": [
      "22:20:38.027892\n",
      "Format du jeu de données: (24058263, 2)\n",
      "Exemples :\n",
      "   Cust_Id  Rating\n",
      "0       1:     NaN\n",
      "1  1488844     3.0\n",
      "2   822109     5.0\n",
      "3   885013     4.0\n",
      "4    30878     4.0\n",
      "5   823519     3.0\n",
      "6   893988     3.0\n",
      "7   124105     4.0\n",
      "8  1248029     3.0\n",
      "9  1842128     4.0\n",
      "22:21:00.182836\n"
     ]
    }
   ],
   "source": [
    "\"\"\"\n",
    "Récupération des données\n",
    "\n",
    "temps pour 1 dataset : 1 minute\n",
    "\"\"\"\n",
    "print(datetime.now().time())\n",
    "\n",
    "# Récupération des données des combined_data_X.txt\n",
    "\n",
    "df_1 = pd.read_csv('./data/combined_data_1.txt', header = None, names = ['Cust_Id', 'Rating'], usecols = [0,1])\n",
    "# df_2 = pd.read_csv('./data/combined_data_2.txt', header = None, names = ['Cust_Id', 'Rating'], usecols = [0,1])\n",
    "# df_3 = pd.read_csv('./data/combined_data_3.txt', header = None, names = ['Cust_Id', 'Rating'], usecols = [0,1])\n",
    "# df_4 = pd.read_csv('./data/combined_data_4.txt', header = None, names = ['Cust_Id', 'Rating'], usecols = [0,1])\n",
    "\n",
    "\n",
    "# change de le champ \"Rating\" en float\n",
    "\n",
    "df_1['Rating'] = df_1['Rating'].astype(float)\n",
    "# df_2['Rating'] = df_2['Rating'].astype(float)\n",
    "# df_3['Rating'] = df_3['Rating'].astype(float)\n",
    "# df_4['Rating'] = df_4['Rating'].astype(float)\n",
    "\n",
    "\n",
    "# Formation du dataset final\n",
    "\n",
    "df = df_1\n",
    "# df = df_1.append(df_2)\n",
    "# df = df.append(df_3)\n",
    "# df = df.append(df_4)\n",
    "\n",
    "# Ajout d'index au dataset\n",
    "df.index = np.arange(0,len(df)) \n",
    "# np.arange : Retourne des valeurs uniformément espacées dans un intervalle donné\n",
    "\n",
    "print('Format du jeu de données: {}'.format(df.shape))\n",
    "print('Exemples :')\n",
    "print(df.head(10))\n",
    "\n",
    "print(datetime.now().time())"
   ]
  },
  {
   "cell_type": "code",
   "execution_count": 3,
   "metadata": {
    "tags": []
   },
   "outputs": [
    {
     "output_type": "stream",
     "name": "stdout",
     "text": [
      "22:21:09.742965\n",
      "Tableau des ID de film: [1.000e+00 1.000e+00 1.000e+00 ... 4.499e+03 4.499e+03 4.499e+03]\n",
      "Taille: 24053764\n",
      "22:26:46.747793\n"
     ]
    }
   ],
   "source": [
    "\n",
    "\"\"\"\n",
    "Réorganisation des données : Ajout des Movie_Id au dataset\n",
    "\n",
    "temps pour 1 dataset : 6 min\n",
    "\"\"\"\n",
    "\n",
    "print(datetime.now().time())\n",
    "\n",
    "\n",
    "# Création d'un dataFrame avec Un Booleen dans la colonne rating\n",
    "df_without_null = pd.DataFrame(pd.isnull(df.Rating))\n",
    "# Supprime toutes les valeurs False\n",
    "df_without_null = df_without_null[df_without_null['Rating'] == True]\n",
    "# Ajout de nouveaux index\n",
    "df_without_null = df_without_null.reset_index()\n",
    "\n",
    "\n",
    "movie_table = []\n",
    "movie_id = 1\n",
    "\n",
    "\n",
    "for i,j in zip(df_without_null['index'][1:],df_without_null['index'][:-1]):\n",
    "    # Création d'une ligne avec une seule valeur : l'ID du film. Il apparait autant de fois que le film a d'avis\n",
    "    movies_row = np.full((1,i-j-1), movie_id)\n",
    "    # On le rajoute dans un tableau général\n",
    "    movie_table = np.append(movie_table, movies_row)\n",
    "    movie_id += 1\n",
    "\n",
    "# Manipulation pour le dernier film\n",
    "last_movie = np.full((1,len(df) - df_without_null.iloc[-1, 0] - 1),movie_id)\n",
    "movie_table = np.append(movie_table, last_movie)\n",
    "\n",
    "print('Tableau des ID de film: {}'.format(movie_table))\n",
    "print('Taille: {}'.format(len(movie_table)))\n",
    "\n",
    "print(datetime.now().time())"
   ]
  },
  {
   "cell_type": "code",
   "execution_count": 5,
   "metadata": {},
   "outputs": [
    {
     "output_type": "stream",
     "name": "stdout",
     "text": [
      "22:29:14.907553\n",
      "Format du jeu de données: (24053764, 3)\n",
      "Exemples\n",
      "    Cust_Id  Rating  Movie_Id\n",
      "1   1488844     3.0         1\n",
      "2    822109     5.0         1\n",
      "3    885013     4.0         1\n",
      "4     30878     4.0         1\n",
      "5    823519     3.0         1\n",
      "6    893988     3.0         1\n",
      "7    124105     4.0         1\n",
      "8   1248029     3.0         1\n",
      "9   1842128     4.0         1\n",
      "10  2238063     3.0         1\n",
      "22:29:24.044960\n"
     ]
    }
   ],
   "source": [
    "print(datetime.now().time())\n",
    "\n",
    "\"\"\"\n",
    "Réorganisation des données : Ajout au dataFrame\n",
    "\n",
    "temps pour 1 dataset : 10 secondes\n",
    "\"\"\"\n",
    "\n",
    "# On ajoute ce tableau à notre dataFrame\n",
    "df = df[pd.notnull(df['Rating'])]\n",
    "df['Movie_Id'] = movie_table.astype(int)\n",
    "df['Cust_Id'] = df['Cust_Id'].astype(int)\n",
    "\n",
    "print('Format du jeu de données: {}'.format(df.shape))\n",
    "print('Exemples')\n",
    "print(df.head(10))\n",
    "\n",
    "print(datetime.now().time())"
   ]
  },
  {
   "cell_type": "code",
   "execution_count": 6,
   "metadata": {},
   "outputs": [
    {
     "output_type": "stream",
     "name": "stdout",
     "text": [
      "22:30:01.078891\n",
      "Nombre de films en dessous de la limite : 3092\n",
      "Nombre d utilisateurs en dessous de la limite: 322675\n",
      "22:30:10.081165\n"
     ]
    }
   ],
   "source": [
    "print(datetime.now().time())\n",
    "\n",
    "\"\"\"\n",
    "Suppression des données \"inutiles\" : \n",
    "- les films avec pas assez de notes : 1700\n",
    "- les utilisateurs qui de donnent pas assez de notes : 50\n",
    "\n",
    "temps pour 1 dataset : 15 secondes\n",
    "\"\"\"\n",
    "movie_min = 1700\n",
    "cust_min = 50\n",
    "\n",
    "f = ['count','mean']\n",
    "\n",
    "\n",
    "# On regroupe les notes par film et on attribue à ce groupe un compte et une moyenne\n",
    "df_movie_summary = df.groupby('Movie_Id')['Rating'].agg(f)\n",
    "df_movie_summary.index = df_movie_summary.index.map(int)\n",
    "\n",
    "# Fait une liste de tous les films dont le nombre de reviews est inférieur à movie_min\n",
    "drop_movie_list = df_movie_summary[df_movie_summary['count'] < movie_min].index\n",
    "\n",
    "print('Nombre de films en dessous de la limite : {}'.format(len(drop_movie_list)))\n",
    "\n",
    "# Même procédé que pour les films\n",
    "df_cust_summary = df.groupby('Cust_Id')['Rating'].agg(f)\n",
    "df_cust_summary.index = df_cust_summary.index.map(int)\n",
    "drop_cust_list = df_cust_summary[df_cust_summary['count'] < cust_min].index\n",
    "\n",
    "print('Nombre d utilisateurs en dessous de la limite: {}'.format(len(drop_cust_list)))\n",
    "\n",
    "print(datetime.now().time())"
   ]
  },
  {
   "cell_type": "code",
   "execution_count": 8,
   "metadata": {},
   "outputs": [
    {
     "output_type": "stream",
     "name": "stdout",
     "text": [
      "22:31:08.695871\n",
      "Taille d origine: (17642528, 3)\n",
      "Taille après la suppression: (17642528, 3)\n",
      "22:31:21.708305\n"
     ]
    }
   ],
   "source": [
    "print(datetime.now().time())\n",
    "\n",
    "\"\"\"\n",
    "Suppression des données \"inutiles\" : \n",
    "- les films avec pas assez de notes\n",
    "- les utilisateurs qui de donnent pas assez de notes\n",
    "\n",
    "temps pour 1 dataset : 20 secondes\n",
    "\"\"\"\n",
    "\n",
    "print('Taille d origine: {}'.format(df.shape))\n",
    "# Suppression des films \n",
    "df = df[~df['Movie_Id'].isin(drop_movie_list)]\n",
    "# Suppression des utlisateurs\n",
    "df = df[~df['Cust_Id'].isin(drop_cust_list)]\n",
    "print('Taille après la suppression: {}'.format(df.shape))\n",
    "\n",
    "\n",
    "print(datetime.now().time())"
   ]
  },
  {
   "cell_type": "code",
   "execution_count": 9,
   "metadata": {},
   "outputs": [
    {
     "output_type": "stream",
     "name": "stdout",
     "text": [
      "22:31:40.031264\n            Year                          Name\nMovie_Id                                      \n1         2003.0               Dinosaur Planet\n2         2004.0    Isle of Man TT 2004 Review\n3         1997.0                     Character\n4         1994.0  Paula Abdul's Get Up & Dance\n5         2004.0      The Rise and Fall of ECW\n6         1997.0                          Sick\n7         1992.0                         8 Man\n8         2004.0    What the #$*! Do We Know!?\n9         1991.0      Class of Nuke 'Em High 2\n10        2001.0                       Fighter\n22:31:40.136678\n"
     ]
    }
   ],
   "source": [
    "print(datetime.now().time())\n",
    "\n",
    "\"\"\"\n",
    "Mapping des données : création d'un dataFrame depuis le fichier movie_titles.csv\n",
    "\n",
    "temps pour 1 dataset : 0 seconde\n",
    "\"\"\"\n",
    "\n",
    "df_title = pd.read_csv('./data/movie_titles.csv', encoding = \"ISO-8859-1\", header = None, names = ['Movie_Id', 'Year', 'Name'])\n",
    "# Inplace = True : ne crée pas un nouveau dataFrame, le modifie\n",
    "df_title.set_index('Movie_Id', inplace = True)\n",
    "# Récupération des dix premiers films\n",
    "print (df_title.head(10))\n",
    "\n",
    "print(datetime.now().time())"
   ]
  },
  {
   "cell_type": "code",
   "execution_count": 10,
   "metadata": {},
   "outputs": [
    {
     "output_type": "stream",
     "name": "stdout",
     "text": [
      "Taille de la matrice des données\n(148083, 1407)\n"
     ]
    }
   ],
   "source": [
    "#print(datetime.now().time())\n",
    "\n",
    "\"\"\"\n",
    "Toutes les données dans une matrice\n",
    "\n",
    "temps pour 1 dataset : 50 secondes\n",
    "\"\"\"\n",
    "\n",
    "df_matrix = pd.pivot_table(df,values='Rating',index='Cust_Id',columns='Movie_Id')\n",
    "print(\"Taille de la matrice des données\")\n",
    "print(df_matrix.shape)\n",
    "#print(datetime.now().time())"
   ]
  },
  {
   "cell_type": "code",
   "execution_count": 13,
   "metadata": {},
   "outputs": [
    {
     "output_type": "stream",
     "name": "stdout",
     "text": [
      "22:33:53.566004\n",
      "Pour le film Lilo and Stitch\n",
      "- Top 10 des films recommandés (basé sur le coefficient de Pearson) - \n",
      " PearsonR                                          Name  count      mean\n",
      " 1.000000                               Lilo and Stitch  39752  3.823254\n",
      " 0.400310                                      Gorgeous   1705  3.187097\n",
      " 0.393666                   The Hunchback of Notre Dame   1883  3.482209\n",
      " 0.391005                                     Dinotopia   1938  3.327657\n",
      " 0.386438                                      Hercules  18464  3.680730\n",
      " 0.374698  Brother Bear (Theatrical Widescreen Version)  33708  3.746707\n",
      " 0.373512                      The Emperor's New Groove  28955  3.848040\n",
      " 0.371155                            Air Bud: World Pup   3493  3.127684\n",
      " 0.364773                                     RoboCop 3   1796  3.073497\n",
      " 0.363356                          Good Guys Wear Black   1987  2.710116\n",
      "22:34:12.041541\n"
     ]
    }
   ],
   "source": [
    "\n",
    "print(datetime.now().time())\n",
    "\n",
    "\"\"\"\n",
    "R de Pearson : Les films similaire à \"Lilo et Stitch\"\n",
    "\n",
    "temps pour 1 dataset : 1 minute\n",
    "\"\"\"\n",
    "\n",
    "min_count=0\n",
    "movie_title= \"Lilo and Stitch\"\n",
    "\n",
    "\n",
    "print(\"Pour le film {}\".format(movie_title))\n",
    "\n",
    "\n",
    "# Récupération de l'index du film\n",
    "i = int(df_title.index[df_title['Name'] == movie_title][0])\n",
    "\n",
    "# Récupération des utilisateurs et de leur note pour ce film\n",
    "movie_target = df_matrix[i]\n",
    "\n",
    "# Corrélation avec toute la matrice\n",
    "similar_to_target = df_matrix.corrwith(movie_target, method='pearson')\n",
    "\n",
    "\n",
    "# Création d'un dataFrame PearsonR\n",
    "df_corr_target = pd.DataFrame(similar_to_target, columns = ['PearsonR'])\n",
    "\n",
    "# Supprimer les valeurs manquantes\n",
    "df_corr_target.dropna(inplace = True) \n",
    "\n",
    "# trie par le dataFrame par PearsonR descendant\n",
    "df_corr_target = df_corr_target.sort_values('PearsonR', ascending = False)\n",
    "df_corr_target.index = df_corr_target.index.map(int)\n",
    "\n",
    "# Rejoindre les dataFrames PearsonR, Title et Movie_summary\n",
    "df_corr_target = df_corr_target.join(df_title).join(df_movie_summary)[['PearsonR', 'Name', 'count', 'mean']]\n",
    "\n",
    "# Affiche les 10 premiers PearsonR\n",
    "print(\"- Top 10 des films recommandés (basé sur le coefficient de Pearson) - \")\n",
    "print(df_corr_target[df_corr_target['count']>min_count][:10].to_string(index=False))\n",
    "\n",
    "print(datetime.now().time())\n"
   ]
  },
  {
   "cell_type": "code",
   "execution_count": 17,
   "metadata": {},
   "outputs": [
    {
     "output_type": "stream",
     "name": "stdout",
     "text": [
      "15:45:35.528260\n",
      "Evaluating RMSE, MAE of algorithm SVD on 5 split(s).\n",
      "\n",
      "                  Fold 1  Fold 2  Fold 3  Fold 4  Fold 5  Mean    Std     \n",
      "RMSE (testset)    1.2568  1.2622  1.2332  1.2566  1.2552  1.2528  0.0101  \n",
      "MAE (testset)     1.0437  1.0520  1.0154  1.0488  1.0298  1.0379  0.0136  \n",
      "Fit time          1.17    1.10    1.22    1.13    1.79    1.28    0.26    \n",
      "Test time         0.04    0.03    0.02    0.03    0.04    0.03    0.01    \n",
      "15:45:43.610097\n"
     ]
    }
   ],
   "source": [
    "print(datetime.now().time())\n",
    "\n",
    "\"\"\"\n",
    "Collaborative Filtering avec SVD : Evalutation de l'algorithme SVD\n",
    "\n",
    "temps pour 100k: 1 heure 7 minutes\n",
    "\"\"\"\n",
    "\n",
    "reader = Reader()\n",
    "\n",
    "data = Dataset.load_from_df(df[['Cust_Id', 'Movie_Id', 'Rating']][:10000], reader)\n",
    "\n",
    "\n",
    "algorithm_SVD = SVD()\n",
    "# Validation croisée\n",
    "cross_validate(algorithm_SVD, data, measures=['RMSE', 'MAE'], cv=5, verbose=True)\n",
    "\n",
    "print(datetime.now().time())\n"
   ]
  },
  {
   "cell_type": "code",
   "execution_count": 14,
   "metadata": {},
   "outputs": [
    {
     "output_type": "stream",
     "name": "stdout",
     "text": [
      "22:34:36.144084\n",
      "22:34:36.367283\n"
     ]
    }
   ],
   "source": [
    "print(datetime.now().time())\n",
    "\n",
    "\"\"\"\n",
    "Collaborative Filtering : Les films aimés (note de 5) par l'utilisateur 785314\n",
    "\n",
    "temps pour 1 dataset : 0 seconde\n",
    "\"\"\"\n",
    "\n",
    "# Récupération des films préférés de l'utilisateur 785314\n",
    "df_user = df[(df['Cust_Id'] == 785314) & (df['Rating'] == 5)]\n",
    "df_user = df_user.set_index('Movie_Id')\n",
    "df_user = df_user.join(df_title)['Name']\n",
    "\n",
    "print(datetime.now().time())"
   ]
  },
  {
   "cell_type": "code",
   "execution_count": 19,
   "metadata": {},
   "outputs": [
    {
     "output_type": "stream",
     "name": "stdout",
     "text": [
      "16:14:05.633989\n",
      "        Year                                        Name  Estimate_Score\n",
      "4391  1993.0                            Army of Darkness        5.000000\n",
      "3167  1987.0                   Evil Dead 2: Dead by Dawn        5.000000\n",
      "2318  2003.0  The Looney Tunes Golden Collection: Vol. 1        4.807591\n",
      "1019  1989.0                      The Simpsons: Season 1        4.803316\n",
      "3768  2004.0            Wonderfalls: The Complete Series        4.792415\n",
      "4382  2004.0              Farscape: The Peacekeeper Wars        4.788926\n",
      "2194  2004.0  The Looney Tunes Golden Collection: Vol. 2        4.759907\n",
      "2113  2002.0                                     Firefly        4.721353\n",
      "3443  2004.0       Family Guy: Freakin' Sweet Collection        4.708142\n",
      "1799  2002.0                 An Evening With Kevin Smith        4.689776\n",
      "16:58:00.465138\n"
     ]
    }
   ],
   "source": [
    "print(datetime.now().time())\n",
    "\n",
    "\"\"\"\n",
    "Collaborative Filtering : Les films que pourrait aimer l'utilisateur 785314\n",
    "\n",
    "temps pour 1 dataset : 40 minutes\n",
    "\"\"\"\n",
    "\n",
    "user_est_movies = df_title.copy()\n",
    "user_est_movies = user_est_movies.reset_index()\n",
    "# Suppresion des films qui n'ont pas assez d'avis\n",
    "user_est_movies = user_est_movies[~user_est_movies['Movie_Id'].isin(drop_movie_list)]\n",
    "\n",
    "\n",
    "# Récupération de tout le dataset\n",
    "data = Dataset.load_from_df(df[['Cust_Id', 'Movie_Id', 'Rating']], reader)\n",
    "\n",
    "trainset = data.build_full_trainset()\n",
    "algorithm_SVD.fit(trainset)\n",
    "\n",
    "user_est_movies['Estimate_Score'] = user_est_movies['Movie_Id'].apply(lambda x: algorithm_SVD.predict(785314, x).est)\n",
    "\n",
    "user_est_movies = user_est_movies.drop('Movie_Id', axis = 1)\n",
    "\n",
    "user_est_movies = user_est_movies.sort_values('Estimate_Score', ascending=False)\n",
    "print(user_est_movies.head(10))\n",
    "print(datetime.now().time())"
   ]
  }
 ],
 "metadata": {
  "kernelspec": {
   "display_name": "Python 3",
   "language": "python",
   "name": "python3"
  },
  "language_info": {
   "codemirror_mode": {
    "name": "ipython",
    "version": 3
   },
   "file_extension": ".py",
   "mimetype": "text/x-python",
   "name": "python",
   "nbconvert_exporter": "python",
   "pygments_lexer": "ipython3",
   "version": "3.7.6-final"
  }
 },
 "nbformat": 4,
 "nbformat_minor": 4
}